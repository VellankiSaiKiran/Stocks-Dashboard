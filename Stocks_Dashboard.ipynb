{
  "nbformat": 4,
  "nbformat_minor": 0,
  "metadata": {
    "colab": {
      "provenance": [],
      "toc_visible": true
    },
    "kernelspec": {
      "name": "python3",
      "display_name": "Python 3"
    },
    "language_info": {
      "name": "python"
    }
  },
  "cells": [
    {
      "cell_type": "markdown",
      "metadata": {
        "id": "Nt4JHIjW5Sc7"
      },
      "source": [
        "# Setup"
      ]
    },
    {
      "cell_type": "code",
      "source": [
        "from getpass import getpass\n",
        "\n",
        "API_KEY = getpass(\"Please input your AlphaVantage API Key: \")"
      ],
      "metadata": {
        "colab": {
          "base_uri": "https://localhost:8080/"
        },
        "id": "p8zJbagUpyJ-",
        "outputId": "14bbfa62-f5f4-46cf-e96e-b15254391c61"
      },
      "execution_count": null,
      "outputs": [
        {
          "name": "stdout",
          "output_type": "stream",
          "text": [
            "Please input your AlphaVantage API Key: ··········\n"
          ]
        }
      ]
    },
    {
      "cell_type": "code",
      "source": [],
      "metadata": {
        "id": "jmWCF-poPZhG"
      },
      "execution_count": null,
      "outputs": []
    },
    {
      "cell_type": "markdown",
      "metadata": {
        "id": "0YvtE8jBLUnQ"
      },
      "source": [
        "## Report Generation Function\n"
      ]
    },
    {
      "cell_type": "code",
      "metadata": {
        "id": "5-Kndyk-QGvH"
      },
      "source": [
        "import pandas as pd\n",
        "from pandas import read_csv\n",
        "import plotly.graph_objects as go\n",
        "import requests\n",
        "\n",
        "\n",
        "def generate_stocks_report(symbol=\"NFLX\"):\n",
        "\n",
        "    base_url = \"https://www.alphavantage.co/query\"\n",
        "    params = {\n",
        "        \"function\": \"TIME_SERIES_DAILY_ADJUSTED\",\n",
        "        \"symbol\": symbol,\n",
        "        \"apikey\": API_KEY,\n",
        "        \"datatype\": \"csv\"\n",
        "    }\n",
        "\n",
        "    try:\n",
        "\n",
        "        response = requests.get(base_url, params=params)\n",
        "        response.raise_for_status()\n",
        "\n",
        "        data = pd.read_csv(response.url)\n",
        "\n",
        "\n",
        "        expected_columns = ['timestamp', 'open', 'high', 'low', 'close', 'adjusted_close', 'volume', 'dividend_amount', 'split_coefficient']\n",
        "        if not all(column in data.columns for column in expected_columns):\n",
        "            print(\"OOPS, couldn't find that stock. Please check your symbol and try again.\")\n",
        "            return\n",
        "\n",
        "    except requests.exceptions.RequestException as e:\n",
        "        print(\"OOPS, could not find that stock. Please check your symbol and try again.\")\n",
        "        return\n",
        "\n",
        "    #print(data)\n",
        "\n",
        "\n",
        "    fig = go.Figure()\n",
        "    fig.add_trace(go.Scatter(x=data['timestamp'],\n",
        "                         y=data['adjusted_close'],\n",
        "                         mode='lines',\n",
        "                         name='Closing Price',\n",
        "                         line=dict(color='blue')))\n",
        "\n",
        "    data[\"50_day_avg\"] = data[\"adjusted_close\"].rolling(window=50, min_periods=0).mean()\n",
        "    fig.add_trace(go.Scatter(x=data['timestamp'],\n",
        "                         y=data['50_day_avg'],\n",
        "                         mode='lines',\n",
        "                         name='50-day Moving Avg',\n",
        "                         line=dict(color='black')))\n",
        "    fig.update_layout(title=f\"Daily Stock Prices ({symbol})\",\n",
        "                  xaxis_title=\"Date\",\n",
        "                  yaxis_title=\"Closing Price\",\n",
        "                  yaxis_tickprefix=\"$\",\n",
        "                  yaxis_tickformat=\",\",\n",
        "                  showlegend=False)\n",
        "    fig.show()\n",
        "\n",
        "\n",
        "\n",
        "    fig_candlestick = go.Figure(data=[go.Candlestick(x=data['timestamp'],\n",
        "                                                     open=data['open'],\n",
        "                                                     high=data['high'],\n",
        "                                                     low=data['low'],\n",
        "                                                     close=data['close'])])\n",
        "    fig_candlestick.update_layout(title=f\"Candlestick Chart ({symbol})\",\n",
        "                                  xaxis_title=\"Date\",\n",
        "                                  yaxis_title=\"Price\",\n",
        "                                  yaxis_tickprefix=\"$\")\n",
        "    fig_candlestick.show()\n",
        "\n",
        "\n",
        "    print(\"Column Names:\", list(data.columns))\n",
        "    print(\"Number of Days:\", len(data))\n",
        "    print(\"Latest Day:\", data['timestamp'].iloc[0])\n",
        "    print(\"Earliest Day:\", data['timestamp'].iloc[-1])\n",
        "    print(\"Closing Price on Latest Day: ${:.2f}\".format(data['adjusted_close'].iloc[0]))\n",
        "    print(\"Closing Price on Earliest Day: ${:.2f}\".format(data['adjusted_close'].iloc[-1]))\n",
        "    print(\"100-day High Price: ${:.2f}\".format(data['high'].max()))\n",
        "    print(\"100-day Low Price: ${:.2f}\".format(data['low'].min()))\n",
        "\n",
        "    def to_pct(decimal):\n",
        "      return \"{:.4f}%\".format(decimal * 100)\n",
        "\n",
        "\n",
        "    earliest_close = data['adjusted_close'].iloc[-1]\n",
        "    latest_close = data['adjusted_close'].iloc[0]\n",
        "    pct_change = (latest_close - earliest_close) / earliest_close\n",
        "    print(\"Percentage Change:\", to_pct(pct_change))\n",
        "    print(\"50-day Moving Average on Latest Day: ${:.2f}\".format(data['50_day_avg'].iloc[0]))\n",
        "\n",
        "\n",
        "#generate_stocks_report(symbol=\"NVDA\")\n",
        "\n",
        "\n"
      ],
      "execution_count": null,
      "outputs": []
    },
    {
      "cell_type": "markdown",
      "metadata": {
        "id": "b7MgzGtogBMq"
      },
      "source": [
        "## Stocks Data Dashboard\n",
        "\n",
        "If your function works, we should be able to use it within the context of the dashboard below:\n",
        "\n",
        " 1. Use the dropdown to select a stock symbol.\n",
        " 2. Run the cell to generate a report and chart chart of prices over time."
      ]
    },
    {
      "cell_type": "code",
      "metadata": {
        "id": "tQ9-AlkkQJ8F",
        "colab": {
          "base_uri": "https://localhost:8080/",
          "height": 1000
        },
        "outputId": "cee93728-506c-444a-8306-baff28e67133",
        "cellView": "form"
      },
      "source": [
        "# @title Stock Selection Form\n",
        "selected_symbol = \"NVDA\" # @param ['MSFT', 'GOOGL', 'AAPL', 'NFLX', \"SBUX\", \"TSLA\", \"DIS\", \"NVDA\"]\n",
        "generate_stocks_report(selected_symbol)"
      ],
      "execution_count": null,
      "outputs": [
        {
          "output_type": "display_data",
          "data": {
            "text/html": [
              "<html>\n",
              "<head><meta charset=\"utf-8\" /></head>\n",
              "<body>\n",
              "    <div>            <script src=\"https://cdnjs.cloudflare.com/ajax/libs/mathjax/2.7.5/MathJax.js?config=TeX-AMS-MML_SVG\"></script><script type=\"text/javascript\">if (window.MathJax && window.MathJax.Hub && window.MathJax.Hub.Config) {window.MathJax.Hub.Config({SVG: {font: \"STIX-Web\"}});}</script>                <script type=\"text/javascript\">window.PlotlyConfig = {MathJaxConfig: 'local'};</script>\n",
              "        <script charset=\"utf-8\" src=\"https://cdn.plot.ly/plotly-2.24.1.min.js\"></script>                <div id=\"6f688860-9104-42c5-9553-eb5de09404f8\" class=\"plotly-graph-div\" style=\"height:525px; width:100%;\"></div>            <script type=\"text/javascript\">                                    window.PLOTLYENV=window.PLOTLYENV || {};                                    if (document.getElementById(\"6f688860-9104-42c5-9553-eb5de09404f8\")) {                    Plotly.newPlot(                        \"6f688860-9104-42c5-9553-eb5de09404f8\",                        [{\"line\":{\"color\":\"blue\"},\"mode\":\"lines\",\"name\":\"Closing Price\",\"x\":[\"2023-10-19\",\"2023-10-18\",\"2023-10-17\",\"2023-10-16\",\"2023-10-13\",\"2023-10-12\",\"2023-10-11\",\"2023-10-10\",\"2023-10-09\",\"2023-10-06\",\"2023-10-05\",\"2023-10-04\",\"2023-10-03\",\"2023-10-02\",\"2023-09-29\",\"2023-09-28\",\"2023-09-27\",\"2023-09-26\",\"2023-09-25\",\"2023-09-22\",\"2023-09-21\",\"2023-09-20\",\"2023-09-19\",\"2023-09-18\",\"2023-09-15\",\"2023-09-14\",\"2023-09-13\",\"2023-09-12\",\"2023-09-11\",\"2023-09-08\",\"2023-09-07\",\"2023-09-06\",\"2023-09-05\",\"2023-09-01\",\"2023-08-31\",\"2023-08-30\",\"2023-08-29\",\"2023-08-28\",\"2023-08-25\",\"2023-08-24\",\"2023-08-23\",\"2023-08-22\",\"2023-08-21\",\"2023-08-18\",\"2023-08-17\",\"2023-08-16\",\"2023-08-15\",\"2023-08-14\",\"2023-08-11\",\"2023-08-10\",\"2023-08-09\",\"2023-08-08\",\"2023-08-07\",\"2023-08-04\",\"2023-08-03\",\"2023-08-02\",\"2023-08-01\",\"2023-07-31\",\"2023-07-28\",\"2023-07-27\",\"2023-07-26\",\"2023-07-25\",\"2023-07-24\",\"2023-07-21\",\"2023-07-20\",\"2023-07-19\",\"2023-07-18\",\"2023-07-17\",\"2023-07-14\",\"2023-07-13\",\"2023-07-12\",\"2023-07-11\",\"2023-07-10\",\"2023-07-07\",\"2023-07-06\",\"2023-07-05\",\"2023-07-03\",\"2023-06-30\",\"2023-06-29\",\"2023-06-28\",\"2023-06-27\",\"2023-06-26\",\"2023-06-23\",\"2023-06-22\",\"2023-06-21\",\"2023-06-20\",\"2023-06-16\",\"2023-06-15\",\"2023-06-14\",\"2023-06-13\",\"2023-06-12\",\"2023-06-09\",\"2023-06-08\",\"2023-06-07\",\"2023-06-06\",\"2023-06-05\",\"2023-06-02\",\"2023-06-01\",\"2023-05-31\",\"2023-05-30\"],\"y\":[421.01,421.96,439.38,460.95,454.61,469.45,468.06,457.98,452.73,457.62,446.88,440.41,435.17,447.82,434.99,430.89,424.68,419.11,422.22,416.1,410.17,422.39,435.2,439.66,439.0,455.81,454.85,448.7,451.78,455.72,462.41,470.61,485.438739615426,485.048772761075,493.508053755445,492.598131095294,487.798539041751,468.310195474344,460.140889833209,471.589916710932,471.119956655689,456.641187294168,469.630083289068,432.953200679911,433.398162859875,434.82304175077,439.362655901413,437.492814830553,408.515277807288,423.843974928291,425.503833846808,446.602040582174,454.126401041113,446.762026983958,445.112167215553,442.652376288112,465.030474237756,467.25028556252,467.460267714862,458.960990120047,454.481370870073,456.751177945395,446.082084776373,443.052342292574,455.161313077659,470.729989801339,474.899635397854,464.570513332625,454.65135642197,459.730924678636,438.982688197174,424.013960480187,421.764151705089,424.993877191119,420.9942171465,423.134035270371,424.093953681079,422.984048018698,408.185305853607,411.135055136513,418.724410071178,406.285467332413,422.054127058324,430.213433549347,430.413416551578,438.042768086689,426.883716562201,426.493749707851,429.933457346223,410.185135875916,394.786444704133,387.667049824711,385.067270795708,374.718150430256,386.465897882311,391.634906761214,393.19460769953,397.623758441028,378.267469873217,401.033104722858],\"type\":\"scatter\"},{\"line\":{\"color\":\"black\"},\"mode\":\"lines\",\"name\":\"50-day Moving Avg\",\"x\":[\"2023-10-19\",\"2023-10-18\",\"2023-10-17\",\"2023-10-16\",\"2023-10-13\",\"2023-10-12\",\"2023-10-11\",\"2023-10-10\",\"2023-10-09\",\"2023-10-06\",\"2023-10-05\",\"2023-10-04\",\"2023-10-03\",\"2023-10-02\",\"2023-09-29\",\"2023-09-28\",\"2023-09-27\",\"2023-09-26\",\"2023-09-25\",\"2023-09-22\",\"2023-09-21\",\"2023-09-20\",\"2023-09-19\",\"2023-09-18\",\"2023-09-15\",\"2023-09-14\",\"2023-09-13\",\"2023-09-12\",\"2023-09-11\",\"2023-09-08\",\"2023-09-07\",\"2023-09-06\",\"2023-09-05\",\"2023-09-01\",\"2023-08-31\",\"2023-08-30\",\"2023-08-29\",\"2023-08-28\",\"2023-08-25\",\"2023-08-24\",\"2023-08-23\",\"2023-08-22\",\"2023-08-21\",\"2023-08-18\",\"2023-08-17\",\"2023-08-16\",\"2023-08-15\",\"2023-08-14\",\"2023-08-11\",\"2023-08-10\",\"2023-08-09\",\"2023-08-08\",\"2023-08-07\",\"2023-08-04\",\"2023-08-03\",\"2023-08-02\",\"2023-08-01\",\"2023-07-31\",\"2023-07-28\",\"2023-07-27\",\"2023-07-26\",\"2023-07-25\",\"2023-07-24\",\"2023-07-21\",\"2023-07-20\",\"2023-07-19\",\"2023-07-18\",\"2023-07-17\",\"2023-07-14\",\"2023-07-13\",\"2023-07-12\",\"2023-07-11\",\"2023-07-10\",\"2023-07-07\",\"2023-07-06\",\"2023-07-05\",\"2023-07-03\",\"2023-06-30\",\"2023-06-29\",\"2023-06-28\",\"2023-06-27\",\"2023-06-26\",\"2023-06-23\",\"2023-06-22\",\"2023-06-21\",\"2023-06-20\",\"2023-06-16\",\"2023-06-15\",\"2023-06-14\",\"2023-06-13\",\"2023-06-12\",\"2023-06-09\",\"2023-06-08\",\"2023-06-07\",\"2023-06-06\",\"2023-06-05\",\"2023-06-02\",\"2023-06-01\",\"2023-05-31\",\"2023-05-30\"],\"y\":[421.01,421.485,427.45,435.825,439.582,444.56,447.9171428571429,449.175,449.57,450.375,450.05727272727273,449.25333333333333,448.17,448.145,447.26800000000003,446.244375,444.9758823529412,443.5388888888889,442.4168421052632,441.101,439.6280952380953,438.8445454545454,438.68608695652176,438.7266666666667,438.73760000000004,439.3942307692308,439.9666666666667,440.2785714285714,440.6751724137931,441.1766666666666,441.8616129032258,442.76,444.0532951398614,445.2590444816618,446.63758760376993,447.91426936742334,448.9922226018646,449.50059030903515,449.7734185019626,450.31883095718695,450.8261754864186,450.9646281485079,451.398708500614,450.9794924137798,450.58879620147087,450.24606240906434,450.01450056847597,449.75363211560256,448.9120330480859,448.41067188569,448.5005485626262,448.99338937426967,449.28831739509195,449.0045579347711,448.8146012790822,448.2786488048444,448.2180582895996,448.4034640008499,448.69806935514714,448.7248891575481,448.8769165749496,449.2037401338574,449.42198182938495,449.3266286752364,449.7300549367896,450.52685473281633,451.5312474407734,452.44045770742594,453.08908483586526,453.961703329438,454.5379570933816,454.57043630298523,454.30171933708704,454.0083968809095,453.64828122383943,452.99476192924686,452.3796410028684,451.86532196324237,450.99342808031446,450.1017291830448,449.2280173844684,447.9415267311166,446.6738344799745,445.57712769574005,444.31523495166266,443.2241276914906,442.00583124189956,441.1695023265697,440.56535367683,439.33725806012967,437.8105878210986,436.43110507170945,434.73984882184214,433.57514781684915,432.6365025172978,431.77273981750665,430.84937885346903,430.0519977256786,429.44704156699714,428.99082416288854],\"type\":\"scatter\"}],                        {\"template\":{\"data\":{\"histogram2dcontour\":[{\"type\":\"histogram2dcontour\",\"colorbar\":{\"outlinewidth\":0,\"ticks\":\"\"},\"colorscale\":[[0.0,\"#0d0887\"],[0.1111111111111111,\"#46039f\"],[0.2222222222222222,\"#7201a8\"],[0.3333333333333333,\"#9c179e\"],[0.4444444444444444,\"#bd3786\"],[0.5555555555555556,\"#d8576b\"],[0.6666666666666666,\"#ed7953\"],[0.7777777777777778,\"#fb9f3a\"],[0.8888888888888888,\"#fdca26\"],[1.0,\"#f0f921\"]]}],\"choropleth\":[{\"type\":\"choropleth\",\"colorbar\":{\"outlinewidth\":0,\"ticks\":\"\"}}],\"histogram2d\":[{\"type\":\"histogram2d\",\"colorbar\":{\"outlinewidth\":0,\"ticks\":\"\"},\"colorscale\":[[0.0,\"#0d0887\"],[0.1111111111111111,\"#46039f\"],[0.2222222222222222,\"#7201a8\"],[0.3333333333333333,\"#9c179e\"],[0.4444444444444444,\"#bd3786\"],[0.5555555555555556,\"#d8576b\"],[0.6666666666666666,\"#ed7953\"],[0.7777777777777778,\"#fb9f3a\"],[0.8888888888888888,\"#fdca26\"],[1.0,\"#f0f921\"]]}],\"heatmap\":[{\"type\":\"heatmap\",\"colorbar\":{\"outlinewidth\":0,\"ticks\":\"\"},\"colorscale\":[[0.0,\"#0d0887\"],[0.1111111111111111,\"#46039f\"],[0.2222222222222222,\"#7201a8\"],[0.3333333333333333,\"#9c179e\"],[0.4444444444444444,\"#bd3786\"],[0.5555555555555556,\"#d8576b\"],[0.6666666666666666,\"#ed7953\"],[0.7777777777777778,\"#fb9f3a\"],[0.8888888888888888,\"#fdca26\"],[1.0,\"#f0f921\"]]}],\"heatmapgl\":[{\"type\":\"heatmapgl\",\"colorbar\":{\"outlinewidth\":0,\"ticks\":\"\"},\"colorscale\":[[0.0,\"#0d0887\"],[0.1111111111111111,\"#46039f\"],[0.2222222222222222,\"#7201a8\"],[0.3333333333333333,\"#9c179e\"],[0.4444444444444444,\"#bd3786\"],[0.5555555555555556,\"#d8576b\"],[0.6666666666666666,\"#ed7953\"],[0.7777777777777778,\"#fb9f3a\"],[0.8888888888888888,\"#fdca26\"],[1.0,\"#f0f921\"]]}],\"contourcarpet\":[{\"type\":\"contourcarpet\",\"colorbar\":{\"outlinewidth\":0,\"ticks\":\"\"}}],\"contour\":[{\"type\":\"contour\",\"colorbar\":{\"outlinewidth\":0,\"ticks\":\"\"},\"colorscale\":[[0.0,\"#0d0887\"],[0.1111111111111111,\"#46039f\"],[0.2222222222222222,\"#7201a8\"],[0.3333333333333333,\"#9c179e\"],[0.4444444444444444,\"#bd3786\"],[0.5555555555555556,\"#d8576b\"],[0.6666666666666666,\"#ed7953\"],[0.7777777777777778,\"#fb9f3a\"],[0.8888888888888888,\"#fdca26\"],[1.0,\"#f0f921\"]]}],\"surface\":[{\"type\":\"surface\",\"colorbar\":{\"outlinewidth\":0,\"ticks\":\"\"},\"colorscale\":[[0.0,\"#0d0887\"],[0.1111111111111111,\"#46039f\"],[0.2222222222222222,\"#7201a8\"],[0.3333333333333333,\"#9c179e\"],[0.4444444444444444,\"#bd3786\"],[0.5555555555555556,\"#d8576b\"],[0.6666666666666666,\"#ed7953\"],[0.7777777777777778,\"#fb9f3a\"],[0.8888888888888888,\"#fdca26\"],[1.0,\"#f0f921\"]]}],\"mesh3d\":[{\"type\":\"mesh3d\",\"colorbar\":{\"outlinewidth\":0,\"ticks\":\"\"}}],\"scatter\":[{\"fillpattern\":{\"fillmode\":\"overlay\",\"size\":10,\"solidity\":0.2},\"type\":\"scatter\"}],\"parcoords\":[{\"type\":\"parcoords\",\"line\":{\"colorbar\":{\"outlinewidth\":0,\"ticks\":\"\"}}}],\"scatterpolargl\":[{\"type\":\"scatterpolargl\",\"marker\":{\"colorbar\":{\"outlinewidth\":0,\"ticks\":\"\"}}}],\"bar\":[{\"error_x\":{\"color\":\"#2a3f5f\"},\"error_y\":{\"color\":\"#2a3f5f\"},\"marker\":{\"line\":{\"color\":\"#E5ECF6\",\"width\":0.5},\"pattern\":{\"fillmode\":\"overlay\",\"size\":10,\"solidity\":0.2}},\"type\":\"bar\"}],\"scattergeo\":[{\"type\":\"scattergeo\",\"marker\":{\"colorbar\":{\"outlinewidth\":0,\"ticks\":\"\"}}}],\"scatterpolar\":[{\"type\":\"scatterpolar\",\"marker\":{\"colorbar\":{\"outlinewidth\":0,\"ticks\":\"\"}}}],\"histogram\":[{\"marker\":{\"pattern\":{\"fillmode\":\"overlay\",\"size\":10,\"solidity\":0.2}},\"type\":\"histogram\"}],\"scattergl\":[{\"type\":\"scattergl\",\"marker\":{\"colorbar\":{\"outlinewidth\":0,\"ticks\":\"\"}}}],\"scatter3d\":[{\"type\":\"scatter3d\",\"line\":{\"colorbar\":{\"outlinewidth\":0,\"ticks\":\"\"}},\"marker\":{\"colorbar\":{\"outlinewidth\":0,\"ticks\":\"\"}}}],\"scattermapbox\":[{\"type\":\"scattermapbox\",\"marker\":{\"colorbar\":{\"outlinewidth\":0,\"ticks\":\"\"}}}],\"scatterternary\":[{\"type\":\"scatterternary\",\"marker\":{\"colorbar\":{\"outlinewidth\":0,\"ticks\":\"\"}}}],\"scattercarpet\":[{\"type\":\"scattercarpet\",\"marker\":{\"colorbar\":{\"outlinewidth\":0,\"ticks\":\"\"}}}],\"carpet\":[{\"aaxis\":{\"endlinecolor\":\"#2a3f5f\",\"gridcolor\":\"white\",\"linecolor\":\"white\",\"minorgridcolor\":\"white\",\"startlinecolor\":\"#2a3f5f\"},\"baxis\":{\"endlinecolor\":\"#2a3f5f\",\"gridcolor\":\"white\",\"linecolor\":\"white\",\"minorgridcolor\":\"white\",\"startlinecolor\":\"#2a3f5f\"},\"type\":\"carpet\"}],\"table\":[{\"cells\":{\"fill\":{\"color\":\"#EBF0F8\"},\"line\":{\"color\":\"white\"}},\"header\":{\"fill\":{\"color\":\"#C8D4E3\"},\"line\":{\"color\":\"white\"}},\"type\":\"table\"}],\"barpolar\":[{\"marker\":{\"line\":{\"color\":\"#E5ECF6\",\"width\":0.5},\"pattern\":{\"fillmode\":\"overlay\",\"size\":10,\"solidity\":0.2}},\"type\":\"barpolar\"}],\"pie\":[{\"automargin\":true,\"type\":\"pie\"}]},\"layout\":{\"autotypenumbers\":\"strict\",\"colorway\":[\"#636efa\",\"#EF553B\",\"#00cc96\",\"#ab63fa\",\"#FFA15A\",\"#19d3f3\",\"#FF6692\",\"#B6E880\",\"#FF97FF\",\"#FECB52\"],\"font\":{\"color\":\"#2a3f5f\"},\"hovermode\":\"closest\",\"hoverlabel\":{\"align\":\"left\"},\"paper_bgcolor\":\"white\",\"plot_bgcolor\":\"#E5ECF6\",\"polar\":{\"bgcolor\":\"#E5ECF6\",\"angularaxis\":{\"gridcolor\":\"white\",\"linecolor\":\"white\",\"ticks\":\"\"},\"radialaxis\":{\"gridcolor\":\"white\",\"linecolor\":\"white\",\"ticks\":\"\"}},\"ternary\":{\"bgcolor\":\"#E5ECF6\",\"aaxis\":{\"gridcolor\":\"white\",\"linecolor\":\"white\",\"ticks\":\"\"},\"baxis\":{\"gridcolor\":\"white\",\"linecolor\":\"white\",\"ticks\":\"\"},\"caxis\":{\"gridcolor\":\"white\",\"linecolor\":\"white\",\"ticks\":\"\"}},\"coloraxis\":{\"colorbar\":{\"outlinewidth\":0,\"ticks\":\"\"}},\"colorscale\":{\"sequential\":[[0.0,\"#0d0887\"],[0.1111111111111111,\"#46039f\"],[0.2222222222222222,\"#7201a8\"],[0.3333333333333333,\"#9c179e\"],[0.4444444444444444,\"#bd3786\"],[0.5555555555555556,\"#d8576b\"],[0.6666666666666666,\"#ed7953\"],[0.7777777777777778,\"#fb9f3a\"],[0.8888888888888888,\"#fdca26\"],[1.0,\"#f0f921\"]],\"sequentialminus\":[[0.0,\"#0d0887\"],[0.1111111111111111,\"#46039f\"],[0.2222222222222222,\"#7201a8\"],[0.3333333333333333,\"#9c179e\"],[0.4444444444444444,\"#bd3786\"],[0.5555555555555556,\"#d8576b\"],[0.6666666666666666,\"#ed7953\"],[0.7777777777777778,\"#fb9f3a\"],[0.8888888888888888,\"#fdca26\"],[1.0,\"#f0f921\"]],\"diverging\":[[0,\"#8e0152\"],[0.1,\"#c51b7d\"],[0.2,\"#de77ae\"],[0.3,\"#f1b6da\"],[0.4,\"#fde0ef\"],[0.5,\"#f7f7f7\"],[0.6,\"#e6f5d0\"],[0.7,\"#b8e186\"],[0.8,\"#7fbc41\"],[0.9,\"#4d9221\"],[1,\"#276419\"]]},\"xaxis\":{\"gridcolor\":\"white\",\"linecolor\":\"white\",\"ticks\":\"\",\"title\":{\"standoff\":15},\"zerolinecolor\":\"white\",\"automargin\":true,\"zerolinewidth\":2},\"yaxis\":{\"gridcolor\":\"white\",\"linecolor\":\"white\",\"ticks\":\"\",\"title\":{\"standoff\":15},\"zerolinecolor\":\"white\",\"automargin\":true,\"zerolinewidth\":2},\"scene\":{\"xaxis\":{\"backgroundcolor\":\"#E5ECF6\",\"gridcolor\":\"white\",\"linecolor\":\"white\",\"showbackground\":true,\"ticks\":\"\",\"zerolinecolor\":\"white\",\"gridwidth\":2},\"yaxis\":{\"backgroundcolor\":\"#E5ECF6\",\"gridcolor\":\"white\",\"linecolor\":\"white\",\"showbackground\":true,\"ticks\":\"\",\"zerolinecolor\":\"white\",\"gridwidth\":2},\"zaxis\":{\"backgroundcolor\":\"#E5ECF6\",\"gridcolor\":\"white\",\"linecolor\":\"white\",\"showbackground\":true,\"ticks\":\"\",\"zerolinecolor\":\"white\",\"gridwidth\":2}},\"shapedefaults\":{\"line\":{\"color\":\"#2a3f5f\"}},\"annotationdefaults\":{\"arrowcolor\":\"#2a3f5f\",\"arrowhead\":0,\"arrowwidth\":1},\"geo\":{\"bgcolor\":\"white\",\"landcolor\":\"#E5ECF6\",\"subunitcolor\":\"white\",\"showland\":true,\"showlakes\":true,\"lakecolor\":\"white\"},\"title\":{\"x\":0.05},\"mapbox\":{\"style\":\"light\"}}},\"yaxis\":{\"title\":{\"text\":\"Closing Price\"},\"tickprefix\":\"$\",\"tickformat\":\",\"},\"title\":{\"text\":\"Daily Stock Prices (NVDA)\"},\"xaxis\":{\"title\":{\"text\":\"Date\"}},\"showlegend\":false},                        {\"responsive\": true}                    ).then(function(){\n",
              "                            \n",
              "var gd = document.getElementById('6f688860-9104-42c5-9553-eb5de09404f8');\n",
              "var x = new MutationObserver(function (mutations, observer) {{\n",
              "        var display = window.getComputedStyle(gd).display;\n",
              "        if (!display || display === 'none') {{\n",
              "            console.log([gd, 'removed!']);\n",
              "            Plotly.purge(gd);\n",
              "            observer.disconnect();\n",
              "        }}\n",
              "}});\n",
              "\n",
              "// Listen for the removal of the full notebook cells\n",
              "var notebookContainer = gd.closest('#notebook-container');\n",
              "if (notebookContainer) {{\n",
              "    x.observe(notebookContainer, {childList: true});\n",
              "}}\n",
              "\n",
              "// Listen for the clearing of the current output cell\n",
              "var outputEl = gd.closest('.output');\n",
              "if (outputEl) {{\n",
              "    x.observe(outputEl, {childList: true});\n",
              "}}\n",
              "\n",
              "                        })                };                            </script>        </div>\n",
              "</body>\n",
              "</html>"
            ]
          },
          "metadata": {}
        },
        {
          "output_type": "display_data",
          "data": {
            "text/html": [
              "<html>\n",
              "<head><meta charset=\"utf-8\" /></head>\n",
              "<body>\n",
              "    <div>            <script src=\"https://cdnjs.cloudflare.com/ajax/libs/mathjax/2.7.5/MathJax.js?config=TeX-AMS-MML_SVG\"></script><script type=\"text/javascript\">if (window.MathJax && window.MathJax.Hub && window.MathJax.Hub.Config) {window.MathJax.Hub.Config({SVG: {font: \"STIX-Web\"}});}</script>                <script type=\"text/javascript\">window.PlotlyConfig = {MathJaxConfig: 'local'};</script>\n",
              "        <script charset=\"utf-8\" src=\"https://cdn.plot.ly/plotly-2.24.1.min.js\"></script>                <div id=\"1a3d91b8-b3c4-440a-add6-17013a220e93\" class=\"plotly-graph-div\" style=\"height:525px; width:100%;\"></div>            <script type=\"text/javascript\">                                    window.PLOTLYENV=window.PLOTLYENV || {};                                    if (document.getElementById(\"1a3d91b8-b3c4-440a-add6-17013a220e93\")) {                    Plotly.newPlot(                        \"1a3d91b8-b3c4-440a-add6-17013a220e93\",                        [{\"close\":[421.01,421.96,439.38,460.95,454.61,469.45,468.06,457.98,452.73,457.62,446.88,440.41,435.17,447.82,434.99,430.89,424.68,419.11,422.22,416.1,410.17,422.39,435.2,439.66,439.0,455.81,454.85,448.7,451.78,455.72,462.41,470.61,485.48,485.09,493.55,492.64,487.84,468.35,460.18,471.63,471.16,456.68,469.67,432.99,433.435,434.86,439.4,437.53,408.55,423.88,425.54,446.64,454.165,446.8,445.15,442.69,465.07,467.29,467.5,459.0,454.52,456.79,446.12,443.09,455.2,470.77,474.94,464.61,454.69,459.77,439.02,424.05,421.8,425.03,421.03,423.17,424.13,423.02,408.22,411.17,418.76,406.32,422.09,430.25,430.45,438.08,426.92,426.53,429.97,410.22,394.82,387.7,385.1,374.75,386.54,391.71,393.27,397.7,378.34,401.11],\"high\":[432.97,432.19,447.54,462.25,471.16,476.09,468.59,462.59,456.05,457.89,449.0,441.43,451.3,451.75,441.44,434.4631,428.72,428.2,425.36,421.15,421.0,439.03,439.66,442.42,455.99,459.8699,459.3,456.73,461.63,466.06,463.44,485.49,488.5081,498.0,497.44,499.27,490.81,469.8,478.05,502.66,472.0,481.87,470.65,435.7799,440.62,446.75,452.68,438.0,420.18,435.74,443.12,452.42,455.4,456.42,451.18,458.4,469.0,471.3,470.27,473.95,460.53,461.825,451.09,458.66,470.87,478.18,478.9599,464.96,480.88,461.55,439.35,427.58,428.11,432.14,421.79,431.77,428.98,425.5,416.0,418.45,419.4,427.64,428.09,434.255,436.15,439.9,437.21,432.89,430.0,411.01,395.2999,397.11,388.64,394.99,391.6,395.6503,405.0,400.5,402.95,419.38],\"low\":[418.82,418.25,424.8,449.12,452.8,463.3,460.5,450.88,443.68,440.26,438.88,432.9201,432.46,438.61,433.0694,421.15,416.2901,416.55,411.77,412.31,409.8,422.23,430.02,420.0,438.08,451.31,445.03,445.31,443.12,452.71,451.52,465.8,478.6,481.416,489.58,484.25,463.9101,448.88,450.24,471.59,452.08,453.331,442.22,416.6,430.01,434.06,437.1,403.11,406.39,418.35,421.34,440.5601,445.6345,443.93,438.0,433.87,460.27,465.0601,463.81,457.5,446.3,449.23,440.4,441.0,450.62,467.42,457.34,452.6241,450.6,444.92,427.7728,420.67,416.49,421.8,413.46,420.85,422.02,415.01,406.0,405.18,404.48,401.0,420.15,422.34,420.8,426.74,426.605,421.47,405.52,397.4,386.18,385.67,375.05,373.56,381.48,387.07,390.5801,383.4,378.22,399.49],\"open\":[428.11,425.91,440.0,450.63,469.6,467.77,461.96,453.1,448.42,441.93,440.5,437.42,448.08,440.3,438.27,424.6,423.3,420.01,415.91,415.72,415.83,436.0,438.33,427.48,453.41,459.5,446.0,447.38,461.48,459.42,455.25,484.41,482.23,497.62,493.8,490.44,466.66,464.82,470.12,502.16,458.66,481.35,444.94,426.35,439.7,445.2,445.6,404.86,417.51,421.6,442.74,448.53,451.11,449.85,438.0,458.31,464.595,467.54,466.68,465.19,460.21,449.41,447.31,457.88,465.07,474.64,467.01,462.89,465.8281,445.18,430.33,424.81,426.57,423.22,418.44,421.35,425.17,416.8,415.58,406.6,407.99,424.61,424.64,422.53,435.01,429.98,434.5,426.02,408.24,401.86,392.0,390.37,377.24,389.15,388.3,389.09,400.97,384.89,394.88,405.95],\"x\":[\"2023-10-19\",\"2023-10-18\",\"2023-10-17\",\"2023-10-16\",\"2023-10-13\",\"2023-10-12\",\"2023-10-11\",\"2023-10-10\",\"2023-10-09\",\"2023-10-06\",\"2023-10-05\",\"2023-10-04\",\"2023-10-03\",\"2023-10-02\",\"2023-09-29\",\"2023-09-28\",\"2023-09-27\",\"2023-09-26\",\"2023-09-25\",\"2023-09-22\",\"2023-09-21\",\"2023-09-20\",\"2023-09-19\",\"2023-09-18\",\"2023-09-15\",\"2023-09-14\",\"2023-09-13\",\"2023-09-12\",\"2023-09-11\",\"2023-09-08\",\"2023-09-07\",\"2023-09-06\",\"2023-09-05\",\"2023-09-01\",\"2023-08-31\",\"2023-08-30\",\"2023-08-29\",\"2023-08-28\",\"2023-08-25\",\"2023-08-24\",\"2023-08-23\",\"2023-08-22\",\"2023-08-21\",\"2023-08-18\",\"2023-08-17\",\"2023-08-16\",\"2023-08-15\",\"2023-08-14\",\"2023-08-11\",\"2023-08-10\",\"2023-08-09\",\"2023-08-08\",\"2023-08-07\",\"2023-08-04\",\"2023-08-03\",\"2023-08-02\",\"2023-08-01\",\"2023-07-31\",\"2023-07-28\",\"2023-07-27\",\"2023-07-26\",\"2023-07-25\",\"2023-07-24\",\"2023-07-21\",\"2023-07-20\",\"2023-07-19\",\"2023-07-18\",\"2023-07-17\",\"2023-07-14\",\"2023-07-13\",\"2023-07-12\",\"2023-07-11\",\"2023-07-10\",\"2023-07-07\",\"2023-07-06\",\"2023-07-05\",\"2023-07-03\",\"2023-06-30\",\"2023-06-29\",\"2023-06-28\",\"2023-06-27\",\"2023-06-26\",\"2023-06-23\",\"2023-06-22\",\"2023-06-21\",\"2023-06-20\",\"2023-06-16\",\"2023-06-15\",\"2023-06-14\",\"2023-06-13\",\"2023-06-12\",\"2023-06-09\",\"2023-06-08\",\"2023-06-07\",\"2023-06-06\",\"2023-06-05\",\"2023-06-02\",\"2023-06-01\",\"2023-05-31\",\"2023-05-30\"],\"type\":\"candlestick\"}],                        {\"template\":{\"data\":{\"histogram2dcontour\":[{\"type\":\"histogram2dcontour\",\"colorbar\":{\"outlinewidth\":0,\"ticks\":\"\"},\"colorscale\":[[0.0,\"#0d0887\"],[0.1111111111111111,\"#46039f\"],[0.2222222222222222,\"#7201a8\"],[0.3333333333333333,\"#9c179e\"],[0.4444444444444444,\"#bd3786\"],[0.5555555555555556,\"#d8576b\"],[0.6666666666666666,\"#ed7953\"],[0.7777777777777778,\"#fb9f3a\"],[0.8888888888888888,\"#fdca26\"],[1.0,\"#f0f921\"]]}],\"choropleth\":[{\"type\":\"choropleth\",\"colorbar\":{\"outlinewidth\":0,\"ticks\":\"\"}}],\"histogram2d\":[{\"type\":\"histogram2d\",\"colorbar\":{\"outlinewidth\":0,\"ticks\":\"\"},\"colorscale\":[[0.0,\"#0d0887\"],[0.1111111111111111,\"#46039f\"],[0.2222222222222222,\"#7201a8\"],[0.3333333333333333,\"#9c179e\"],[0.4444444444444444,\"#bd3786\"],[0.5555555555555556,\"#d8576b\"],[0.6666666666666666,\"#ed7953\"],[0.7777777777777778,\"#fb9f3a\"],[0.8888888888888888,\"#fdca26\"],[1.0,\"#f0f921\"]]}],\"heatmap\":[{\"type\":\"heatmap\",\"colorbar\":{\"outlinewidth\":0,\"ticks\":\"\"},\"colorscale\":[[0.0,\"#0d0887\"],[0.1111111111111111,\"#46039f\"],[0.2222222222222222,\"#7201a8\"],[0.3333333333333333,\"#9c179e\"],[0.4444444444444444,\"#bd3786\"],[0.5555555555555556,\"#d8576b\"],[0.6666666666666666,\"#ed7953\"],[0.7777777777777778,\"#fb9f3a\"],[0.8888888888888888,\"#fdca26\"],[1.0,\"#f0f921\"]]}],\"heatmapgl\":[{\"type\":\"heatmapgl\",\"colorbar\":{\"outlinewidth\":0,\"ticks\":\"\"},\"colorscale\":[[0.0,\"#0d0887\"],[0.1111111111111111,\"#46039f\"],[0.2222222222222222,\"#7201a8\"],[0.3333333333333333,\"#9c179e\"],[0.4444444444444444,\"#bd3786\"],[0.5555555555555556,\"#d8576b\"],[0.6666666666666666,\"#ed7953\"],[0.7777777777777778,\"#fb9f3a\"],[0.8888888888888888,\"#fdca26\"],[1.0,\"#f0f921\"]]}],\"contourcarpet\":[{\"type\":\"contourcarpet\",\"colorbar\":{\"outlinewidth\":0,\"ticks\":\"\"}}],\"contour\":[{\"type\":\"contour\",\"colorbar\":{\"outlinewidth\":0,\"ticks\":\"\"},\"colorscale\":[[0.0,\"#0d0887\"],[0.1111111111111111,\"#46039f\"],[0.2222222222222222,\"#7201a8\"],[0.3333333333333333,\"#9c179e\"],[0.4444444444444444,\"#bd3786\"],[0.5555555555555556,\"#d8576b\"],[0.6666666666666666,\"#ed7953\"],[0.7777777777777778,\"#fb9f3a\"],[0.8888888888888888,\"#fdca26\"],[1.0,\"#f0f921\"]]}],\"surface\":[{\"type\":\"surface\",\"colorbar\":{\"outlinewidth\":0,\"ticks\":\"\"},\"colorscale\":[[0.0,\"#0d0887\"],[0.1111111111111111,\"#46039f\"],[0.2222222222222222,\"#7201a8\"],[0.3333333333333333,\"#9c179e\"],[0.4444444444444444,\"#bd3786\"],[0.5555555555555556,\"#d8576b\"],[0.6666666666666666,\"#ed7953\"],[0.7777777777777778,\"#fb9f3a\"],[0.8888888888888888,\"#fdca26\"],[1.0,\"#f0f921\"]]}],\"mesh3d\":[{\"type\":\"mesh3d\",\"colorbar\":{\"outlinewidth\":0,\"ticks\":\"\"}}],\"scatter\":[{\"fillpattern\":{\"fillmode\":\"overlay\",\"size\":10,\"solidity\":0.2},\"type\":\"scatter\"}],\"parcoords\":[{\"type\":\"parcoords\",\"line\":{\"colorbar\":{\"outlinewidth\":0,\"ticks\":\"\"}}}],\"scatterpolargl\":[{\"type\":\"scatterpolargl\",\"marker\":{\"colorbar\":{\"outlinewidth\":0,\"ticks\":\"\"}}}],\"bar\":[{\"error_x\":{\"color\":\"#2a3f5f\"},\"error_y\":{\"color\":\"#2a3f5f\"},\"marker\":{\"line\":{\"color\":\"#E5ECF6\",\"width\":0.5},\"pattern\":{\"fillmode\":\"overlay\",\"size\":10,\"solidity\":0.2}},\"type\":\"bar\"}],\"scattergeo\":[{\"type\":\"scattergeo\",\"marker\":{\"colorbar\":{\"outlinewidth\":0,\"ticks\":\"\"}}}],\"scatterpolar\":[{\"type\":\"scatterpolar\",\"marker\":{\"colorbar\":{\"outlinewidth\":0,\"ticks\":\"\"}}}],\"histogram\":[{\"marker\":{\"pattern\":{\"fillmode\":\"overlay\",\"size\":10,\"solidity\":0.2}},\"type\":\"histogram\"}],\"scattergl\":[{\"type\":\"scattergl\",\"marker\":{\"colorbar\":{\"outlinewidth\":0,\"ticks\":\"\"}}}],\"scatter3d\":[{\"type\":\"scatter3d\",\"line\":{\"colorbar\":{\"outlinewidth\":0,\"ticks\":\"\"}},\"marker\":{\"colorbar\":{\"outlinewidth\":0,\"ticks\":\"\"}}}],\"scattermapbox\":[{\"type\":\"scattermapbox\",\"marker\":{\"colorbar\":{\"outlinewidth\":0,\"ticks\":\"\"}}}],\"scatterternary\":[{\"type\":\"scatterternary\",\"marker\":{\"colorbar\":{\"outlinewidth\":0,\"ticks\":\"\"}}}],\"scattercarpet\":[{\"type\":\"scattercarpet\",\"marker\":{\"colorbar\":{\"outlinewidth\":0,\"ticks\":\"\"}}}],\"carpet\":[{\"aaxis\":{\"endlinecolor\":\"#2a3f5f\",\"gridcolor\":\"white\",\"linecolor\":\"white\",\"minorgridcolor\":\"white\",\"startlinecolor\":\"#2a3f5f\"},\"baxis\":{\"endlinecolor\":\"#2a3f5f\",\"gridcolor\":\"white\",\"linecolor\":\"white\",\"minorgridcolor\":\"white\",\"startlinecolor\":\"#2a3f5f\"},\"type\":\"carpet\"}],\"table\":[{\"cells\":{\"fill\":{\"color\":\"#EBF0F8\"},\"line\":{\"color\":\"white\"}},\"header\":{\"fill\":{\"color\":\"#C8D4E3\"},\"line\":{\"color\":\"white\"}},\"type\":\"table\"}],\"barpolar\":[{\"marker\":{\"line\":{\"color\":\"#E5ECF6\",\"width\":0.5},\"pattern\":{\"fillmode\":\"overlay\",\"size\":10,\"solidity\":0.2}},\"type\":\"barpolar\"}],\"pie\":[{\"automargin\":true,\"type\":\"pie\"}]},\"layout\":{\"autotypenumbers\":\"strict\",\"colorway\":[\"#636efa\",\"#EF553B\",\"#00cc96\",\"#ab63fa\",\"#FFA15A\",\"#19d3f3\",\"#FF6692\",\"#B6E880\",\"#FF97FF\",\"#FECB52\"],\"font\":{\"color\":\"#2a3f5f\"},\"hovermode\":\"closest\",\"hoverlabel\":{\"align\":\"left\"},\"paper_bgcolor\":\"white\",\"plot_bgcolor\":\"#E5ECF6\",\"polar\":{\"bgcolor\":\"#E5ECF6\",\"angularaxis\":{\"gridcolor\":\"white\",\"linecolor\":\"white\",\"ticks\":\"\"},\"radialaxis\":{\"gridcolor\":\"white\",\"linecolor\":\"white\",\"ticks\":\"\"}},\"ternary\":{\"bgcolor\":\"#E5ECF6\",\"aaxis\":{\"gridcolor\":\"white\",\"linecolor\":\"white\",\"ticks\":\"\"},\"baxis\":{\"gridcolor\":\"white\",\"linecolor\":\"white\",\"ticks\":\"\"},\"caxis\":{\"gridcolor\":\"white\",\"linecolor\":\"white\",\"ticks\":\"\"}},\"coloraxis\":{\"colorbar\":{\"outlinewidth\":0,\"ticks\":\"\"}},\"colorscale\":{\"sequential\":[[0.0,\"#0d0887\"],[0.1111111111111111,\"#46039f\"],[0.2222222222222222,\"#7201a8\"],[0.3333333333333333,\"#9c179e\"],[0.4444444444444444,\"#bd3786\"],[0.5555555555555556,\"#d8576b\"],[0.6666666666666666,\"#ed7953\"],[0.7777777777777778,\"#fb9f3a\"],[0.8888888888888888,\"#fdca26\"],[1.0,\"#f0f921\"]],\"sequentialminus\":[[0.0,\"#0d0887\"],[0.1111111111111111,\"#46039f\"],[0.2222222222222222,\"#7201a8\"],[0.3333333333333333,\"#9c179e\"],[0.4444444444444444,\"#bd3786\"],[0.5555555555555556,\"#d8576b\"],[0.6666666666666666,\"#ed7953\"],[0.7777777777777778,\"#fb9f3a\"],[0.8888888888888888,\"#fdca26\"],[1.0,\"#f0f921\"]],\"diverging\":[[0,\"#8e0152\"],[0.1,\"#c51b7d\"],[0.2,\"#de77ae\"],[0.3,\"#f1b6da\"],[0.4,\"#fde0ef\"],[0.5,\"#f7f7f7\"],[0.6,\"#e6f5d0\"],[0.7,\"#b8e186\"],[0.8,\"#7fbc41\"],[0.9,\"#4d9221\"],[1,\"#276419\"]]},\"xaxis\":{\"gridcolor\":\"white\",\"linecolor\":\"white\",\"ticks\":\"\",\"title\":{\"standoff\":15},\"zerolinecolor\":\"white\",\"automargin\":true,\"zerolinewidth\":2},\"yaxis\":{\"gridcolor\":\"white\",\"linecolor\":\"white\",\"ticks\":\"\",\"title\":{\"standoff\":15},\"zerolinecolor\":\"white\",\"automargin\":true,\"zerolinewidth\":2},\"scene\":{\"xaxis\":{\"backgroundcolor\":\"#E5ECF6\",\"gridcolor\":\"white\",\"linecolor\":\"white\",\"showbackground\":true,\"ticks\":\"\",\"zerolinecolor\":\"white\",\"gridwidth\":2},\"yaxis\":{\"backgroundcolor\":\"#E5ECF6\",\"gridcolor\":\"white\",\"linecolor\":\"white\",\"showbackground\":true,\"ticks\":\"\",\"zerolinecolor\":\"white\",\"gridwidth\":2},\"zaxis\":{\"backgroundcolor\":\"#E5ECF6\",\"gridcolor\":\"white\",\"linecolor\":\"white\",\"showbackground\":true,\"ticks\":\"\",\"zerolinecolor\":\"white\",\"gridwidth\":2}},\"shapedefaults\":{\"line\":{\"color\":\"#2a3f5f\"}},\"annotationdefaults\":{\"arrowcolor\":\"#2a3f5f\",\"arrowhead\":0,\"arrowwidth\":1},\"geo\":{\"bgcolor\":\"white\",\"landcolor\":\"#E5ECF6\",\"subunitcolor\":\"white\",\"showland\":true,\"showlakes\":true,\"lakecolor\":\"white\"},\"title\":{\"x\":0.05},\"mapbox\":{\"style\":\"light\"}}},\"yaxis\":{\"title\":{\"text\":\"Price\"},\"tickprefix\":\"$\"},\"title\":{\"text\":\"Candlestick Chart (NVDA)\"},\"xaxis\":{\"title\":{\"text\":\"Date\"}}},                        {\"responsive\": true}                    ).then(function(){\n",
              "                            \n",
              "var gd = document.getElementById('1a3d91b8-b3c4-440a-add6-17013a220e93');\n",
              "var x = new MutationObserver(function (mutations, observer) {{\n",
              "        var display = window.getComputedStyle(gd).display;\n",
              "        if (!display || display === 'none') {{\n",
              "            console.log([gd, 'removed!']);\n",
              "            Plotly.purge(gd);\n",
              "            observer.disconnect();\n",
              "        }}\n",
              "}});\n",
              "\n",
              "// Listen for the removal of the full notebook cells\n",
              "var notebookContainer = gd.closest('#notebook-container');\n",
              "if (notebookContainer) {{\n",
              "    x.observe(notebookContainer, {childList: true});\n",
              "}}\n",
              "\n",
              "// Listen for the clearing of the current output cell\n",
              "var outputEl = gd.closest('.output');\n",
              "if (outputEl) {{\n",
              "    x.observe(outputEl, {childList: true});\n",
              "}}\n",
              "\n",
              "                        })                };                            </script>        </div>\n",
              "</body>\n",
              "</html>"
            ]
          },
          "metadata": {}
        },
        {
          "output_type": "stream",
          "name": "stdout",
          "text": [
            "Column Names: ['timestamp', 'open', 'high', 'low', 'close', 'adjusted_close', 'volume', 'dividend_amount', 'split_coefficient', '50_day_avg']\n",
            "Number of Days: 100\n",
            "Latest Day: 2023-10-19\n",
            "Earliest Day: 2023-05-30\n",
            "Closing Price on Latest Day: $421.01\n",
            "Closing Price on Earliest Day: $401.03\n",
            "100-day High Price: $502.66\n",
            "100-day Low Price: $373.56\n",
            "Percentage Change: 4.9814%\n",
            "50-day Moving Average on Latest Day: $421.01\n"
          ]
        }
      ]
    },
    {
      "cell_type": "code",
      "source": [],
      "metadata": {
        "id": "U6QieqLsAf4I"
      },
      "execution_count": null,
      "outputs": []
    }
  ]
}